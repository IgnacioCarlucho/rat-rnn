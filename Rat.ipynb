{
 "cells": [
  {
   "cell_type": "markdown",
   "metadata": {},
   "source": [
    "# Rat RNN"
   ]
  },
  {
   "cell_type": "markdown",
   "metadata": {},
   "source": [
    "### Load Dependencies"
   ]
  },
  {
   "cell_type": "code",
   "execution_count": null,
   "metadata": {
    "collapsed": true
   },
   "outputs": [],
   "source": [
    "import matplotlib.pyplot as plt\n",
    "import numpy as np\n",
    "import os\n",
    "import pickle\n",
    "import tensorflow as tf\n",
    "\n",
    "from unityagents import UnityEnvironment\n",
    "\n",
    "%matplotlib inline"
   ]
  },
  {
   "cell_type": "markdown",
   "metadata": {},
   "source": [
    "### Hyperparameters"
   ]
  },
  {
   "cell_type": "code",
   "execution_count": null,
   "metadata": {},
   "outputs": [],
   "source": [
    "learning_rate = 1e-4\n",
    "hidden_units = 64\n",
    "train_steps = 2000\n",
    "ep_length = 200\n",
    "sim_steps = 50000\n",
    "batch_size = 8\n",
    "\n",
    "model_path = 'rat_model'\n",
    "data_path = 'rat_data'\n",
    "load_model = True"
   ]
  },
  {
   "cell_type": "markdown",
   "metadata": {},
   "source": [
    "## Generate Data"
   ]
  },
  {
   "cell_type": "markdown",
   "metadata": {},
   "source": [
    "### Start Environment"
   ]
  },
  {
   "cell_type": "code",
   "execution_count": null,
   "metadata": {
    "scrolled": false
   },
   "outputs": [],
   "source": [
    "env_name = \"rat\" # Name of the Unity environment binary to launch\n",
    "env = UnityEnvironment(file_name=env_name, worker_id=1)\n",
    "\n",
    "# Examine environment parameters\n",
    "print(str(env))\n",
    "\n",
    "# Set the default brain to work with\n",
    "default_brain = env.brain_names[0]"
   ]
  },
  {
   "cell_type": "markdown",
   "metadata": {},
   "source": [
    "### Collect States"
   ]
  },
  {
   "cell_type": "code",
   "execution_count": null,
   "metadata": {
    "collapsed": true
   },
   "outputs": [],
   "source": [
    "x,z,ep = [], [], []\n",
    "input_x = []\n",
    "a = env.reset()\n",
    "for i in range(sim_steps):\n",
    "    a = env.step()[default_brain]\n",
    "    x.append(a.states[0][0])\n",
    "    z.append(a.states[0][1])\n",
    "    input_x.append(a.states[0][2:-1])\n",
    "    ep.append(a.states[0][-1])"
   ]
  },
  {
   "cell_type": "code",
   "execution_count": null,
   "metadata": {
    "collapsed": true
   },
   "outputs": [],
   "source": [
    "x = np.array(x)\n",
    "z = np.array(z)\n",
    "input_x = np.array(input_x)\n",
    "input_y = np.stack((x, z), axis=1)"
   ]
  },
  {
   "cell_type": "markdown",
   "metadata": {},
   "source": [
    "### Save Training Data"
   ]
  },
  {
   "cell_type": "code",
   "execution_count": null,
   "metadata": {
    "collapsed": true
   },
   "outputs": [],
   "source": [
    "if not os.path.exists(data_path):\n",
    "    os.makedirs(data_path)"
   ]
  },
  {
   "cell_type": "code",
   "execution_count": null,
   "metadata": {
    "collapsed": true
   },
   "outputs": [],
   "source": [
    "save_data = {\"x\": input_x, \"y\": input_y}\n",
    "pickle.dump(save_data, open(data_path+\"/data.p\", \"wb\"))"
   ]
  },
  {
   "cell_type": "markdown",
   "metadata": {},
   "source": [
    "## Load Training Data"
   ]
  },
  {
   "cell_type": "code",
   "execution_count": null,
   "metadata": {},
   "outputs": [],
   "source": [
    "save_data = pickle.load(open(data_path+\"/data.p\", \"rb\"))\n",
    "input_x = save_data[\"x\"]\n",
    "input_y = save_data[\"y\"]\n",
    "x = input_y[:, 0]\n",
    "z = input_y[:, 1]"
   ]
  },
  {
   "cell_type": "markdown",
   "metadata": {},
   "source": [
    "### Visualize Rat Trajectory"
   ]
  },
  {
   "cell_type": "code",
   "execution_count": null,
   "metadata": {
    "collapsed": true
   },
   "outputs": [],
   "source": [
    "def create_colors(length, segments):\n",
    "    c_list = []\n",
    "    for i in range(segments):\n",
    "        color = np.zeros([length//segments, 4])\n",
    "        color[:, 3] = 0.5\n",
    "        color[:, 0:3] = np.random.uniform(0, 1, size=[1, 3])\n",
    "        c_list.append(color)\n",
    "    c_list = np.reshape(c_list, [length, 4])\n",
    "    return c_list"
   ]
  },
  {
   "cell_type": "code",
   "execution_count": null,
   "metadata": {
    "scrolled": false
   },
   "outputs": [],
   "source": [
    "plt.figure(figsize=(15, 15))\n",
    "plt.scatter(x, z, s=1, c=create_colors(sim_steps, sim_steps//ep_length))\n",
    "plt.ylim(-4.5, 4.5)\n",
    "plt.xlim(-4.5, 4.5)"
   ]
  },
  {
   "cell_type": "markdown",
   "metadata": {},
   "source": [
    "## Rat RNN"
   ]
  },
  {
   "cell_type": "markdown",
   "metadata": {},
   "source": [
    "### Define Network"
   ]
  },
  {
   "cell_type": "code",
   "execution_count": null,
   "metadata": {
    "collapsed": true
   },
   "outputs": [],
   "source": [
    "class RatRNN(object):\n",
    "    def __init__(self, x_size, y_size, h_size, lr):\n",
    "        self.x = tf.placeholder(shape=[None, x_size], dtype=tf.float32)\n",
    "        self.train_length = tf.placeholder(shape=[1], dtype=tf.int32)\n",
    "        self.batch_size = tf.placeholder(shape=[1], dtype=tf.int32)\n",
    "\n",
    "        self.rnn_in = tf.reshape(self.x, shape=[self.batch_size[0], self.train_length[0], x_size])\n",
    "\n",
    "        cell = tf.contrib.rnn.BasicLSTMCell(h_size, state_is_tuple=True)\n",
    "        self.state_in = cell.zero_state(self.batch_size[0], tf.float32)\n",
    "\n",
    "        self.rnn, self.rnn_state = tf.nn.dynamic_rnn(inputs=self.rnn_in, cell=cell, dtype=tf.float32,\n",
    "                                                     initial_state=self.state_in)\n",
    "\n",
    "        self.output = tf.reshape(self.rnn, shape=[-1, h_size])\n",
    "        \n",
    "        self.y_pred = tf.layers.dense(self.output, y_size, activation=None)\n",
    "\n",
    "        self.y = tf.placeholder(shape=[None, y_size], dtype=tf.float32)\n",
    "\n",
    "        l2_loss_a = tf.reduce_sum(tf.nn.l2_loss(tf.trainable_variables()[0]))\n",
    "        l2_loss_b = tf.reduce_sum(tf.nn.l2_loss(tf.trainable_variables()[1]))\n",
    "        self.l2_loss = l2_loss_a + l2_loss_b\n",
    "        self.regress_loss = tf.reduce_sum(tf.squared_difference(self.y, self.y_pred))\n",
    "        self.loss = self.regress_loss + self.l2_loss\n",
    "\n",
    "        optimizer = tf.train.AdamOptimizer(learning_rate=lr)\n",
    "        self.update = optimizer.minimize(self.loss)"
   ]
  },
  {
   "cell_type": "markdown",
   "metadata": {},
   "source": [
    "### Train Network"
   ]
  },
  {
   "cell_type": "code",
   "execution_count": null,
   "metadata": {
    "scrolled": false
   },
   "outputs": [],
   "source": [
    "if not os.path.exists(model_path):\n",
    "    os.makedirs(model_path)\n",
    "\n",
    "tf.reset_default_graph()\n",
    "rat_rnn = RatRNN(3, 2, hidden_units, learning_rate)\n",
    "saver = tf.train.Saver()\n",
    "sess = tf.InteractiveSession()  \n",
    "\n",
    "if load_model:\n",
    "    ckpt = tf.train.get_checkpoint_state(model_path)\n",
    "    if ckpt == None:\n",
    "      print('The model {0} could not be found. Make sure you specified the right '\n",
    "        '--run-path'.format(model_path))\n",
    "    saver.restore(sess, ckpt.model_checkpoint_path)\n",
    "else:\n",
    "    losses = []\n",
    "    init = tf.global_variables_initializer()\n",
    "    sess.run(init)\n",
    "    for i in range(train_steps):\n",
    "        pointer = np.random.randint(0, sim_steps/ep_length / batch_size)\n",
    "        batch_x = input_x[pointer*ep_length*batch_size:(pointer+1)*ep_length*batch_size]\n",
    "        batch_y = input_y[pointer*ep_length*batch_size:(pointer+1)*ep_length*batch_size]\n",
    "        feed_dict = {rat_rnn.x: np.reshape(batch_x, [-1,3]), rat_rnn.y: np.reshape(batch_y, [-1, 2]), \n",
    "                     rat_rnn.train_length: [ep_length], rat_rnn.batch_size: [batch_size]}\n",
    "        loss, _ = sess.run([rat_rnn.loss, rat_rnn.update], feed_dict=feed_dict)\n",
    "        if i % 100 == 0 and i != 0:\n",
    "            print(\"Loss: {}\".format(loss))\n",
    "        losses.append(loss)\n",
    "    plt.plot(losses)\n",
    "    saver.save(sess, model_path + '/model.cptk')"
   ]
  },
  {
   "cell_type": "markdown",
   "metadata": {},
   "source": [
    "### Compare Trajectories"
   ]
  },
  {
   "cell_type": "code",
   "execution_count": null,
   "metadata": {
    "scrolled": false
   },
   "outputs": [],
   "source": [
    "plt.figure(figsize=(15,10))\n",
    "for i in range(15):\n",
    "    pointer = i\n",
    "    batch_x = input_x[pointer*ep_length:(pointer+1)*ep_length]\n",
    "    batch_y = input_y[pointer*ep_length:(pointer+1)*ep_length]\n",
    "    feed_dict = {rat_rnn.x: np.reshape(batch_x, [-1,3]), \n",
    "                 rat_rnn.train_length: [ep_length], rat_rnn.batch_size: [1]}\n",
    "    yp = sess.run(rat_rnn.y_pred, feed_dict=feed_dict)\n",
    "    \n",
    "    # Real - Green | Predicted - Blue\n",
    "    plt.subplot(3, 5, 1 + i)\n",
    "    plt.scatter(batch_y[:,0], batch_y[:, 1], s=1, c=[0,1,0,1])\n",
    "    plt.scatter(yp[:, 0], yp[:, 1], s=1, c=[0,0,1,1])\n",
    "    plt.ylim(-4.5, 4.5)\n",
    "    plt.xlim(-4.5, 4.5)\n",
    "plt.show()"
   ]
  },
  {
   "cell_type": "markdown",
   "metadata": {},
   "source": [
    "### Close TensorFlow Session & Environment"
   ]
  },
  {
   "cell_type": "code",
   "execution_count": null,
   "metadata": {},
   "outputs": [],
   "source": [
    "sess.close()\n",
    "env.close()"
   ]
  }
 ],
 "metadata": {
  "anaconda-cloud": {},
  "kernelspec": {
   "display_name": "Python 3",
   "language": "python",
   "name": "python3"
  },
  "language_info": {
   "codemirror_mode": {
    "name": "ipython",
    "version": 3
   },
   "file_extension": ".py",
   "mimetype": "text/x-python",
   "name": "python",
   "nbconvert_exporter": "python",
   "pygments_lexer": "ipython3",
   "version": "3.6.2"
  }
 },
 "nbformat": 4,
 "nbformat_minor": 1
}
